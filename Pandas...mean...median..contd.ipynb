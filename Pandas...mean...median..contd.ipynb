{
 "cells": [
  {
   "cell_type": "code",
   "execution_count": 1,
   "metadata": {},
   "outputs": [],
   "source": [
    "import pandas as pd\n"
   ]
  },
  {
   "cell_type": "code",
   "execution_count": 4,
   "metadata": {},
   "outputs": [],
   "source": [
    "df = pd.read_csv(\"C:/Users/arunk01/Desktop/Analytics Vidhya/Python/FAO.csv\", encoding = \"ISO-8859-1\")"
   ]
  },
  {
   "cell_type": "code",
   "execution_count": 5,
   "metadata": {},
   "outputs": [],
   "source": [
    "df_mean = df[\"Item Code\"].mean()"
   ]
  },
  {
   "cell_type": "code",
   "execution_count": 7,
   "metadata": {},
   "outputs": [
    {
     "name": "stdout",
     "output_type": "stream",
     "text": [
      "2694.2115286120033\n"
     ]
    }
   ],
   "source": [
    "print (df_mean)"
   ]
  },
  {
   "cell_type": "code",
   "execution_count": 8,
   "metadata": {},
   "outputs": [],
   "source": [
    "df_median = df[\"Item Code\"].median()"
   ]
  },
  {
   "cell_type": "code",
   "execution_count": 9,
   "metadata": {},
   "outputs": [
    {
     "name": "stdout",
     "output_type": "stream",
     "text": [
      "2640.0\n"
     ]
    }
   ],
   "source": [
    "print (df_median)"
   ]
  },
  {
   "cell_type": "code",
   "execution_count": 10,
   "metadata": {},
   "outputs": [
    {
     "name": "stdout",
     "output_type": "stream",
     "text": [
      "0    2905\n",
      "dtype: int64\n"
     ]
    }
   ],
   "source": [
    "df_mode = df[\"Item Code\"].mode()\n",
    "print (df_mode)"
   ]
  },
  {
   "cell_type": "code",
   "execution_count": 13,
   "metadata": {},
   "outputs": [],
   "source": [
    "df_variance = df[\"Item Code\"].var(ddof=0)"
   ]
  },
  {
   "cell_type": "code",
   "execution_count": 14,
   "metadata": {},
   "outputs": [
    {
     "name": "stdout",
     "output_type": "stream",
     "text": [
      "22192.042372096555\n"
     ]
    }
   ],
   "source": [
    "print (df_variance)"
   ]
  },
  {
   "cell_type": "code",
   "execution_count": 23,
   "metadata": {},
   "outputs": [],
   "source": [
    "df_std = df[\"Item Code\"].std(ddof=1)"
   ]
  },
  {
   "cell_type": "code",
   "execution_count": 24,
   "metadata": {},
   "outputs": [
    {
     "name": "stdout",
     "output_type": "stream",
     "text": [
      "148.97340606165707\n"
     ]
    }
   ],
   "source": [
    "print(df_std)"
   ]
  },
  {
   "cell_type": "code",
   "execution_count": 25,
   "metadata": {},
   "outputs": [
    {
     "data": {
      "text/html": [
       "<div>\n",
       "<style scoped>\n",
       "    .dataframe tbody tr th:only-of-type {\n",
       "        vertical-align: middle;\n",
       "    }\n",
       "\n",
       "    .dataframe tbody tr th {\n",
       "        vertical-align: top;\n",
       "    }\n",
       "\n",
       "    .dataframe thead th {\n",
       "        text-align: right;\n",
       "    }\n",
       "</style>\n",
       "<table border=\"1\" class=\"dataframe\">\n",
       "  <thead>\n",
       "    <tr style=\"text-align: right;\">\n",
       "      <th></th>\n",
       "      <th>Area Abbreviation</th>\n",
       "      <th>Area Code</th>\n",
       "      <th>Area</th>\n",
       "      <th>Item Code</th>\n",
       "      <th>Item</th>\n",
       "      <th>Element Code</th>\n",
       "      <th>Element</th>\n",
       "      <th>Unit</th>\n",
       "      <th>latitude</th>\n",
       "      <th>longitude</th>\n",
       "      <th>...</th>\n",
       "      <th>Y2004</th>\n",
       "      <th>Y2005</th>\n",
       "      <th>Y2006</th>\n",
       "      <th>Y2007</th>\n",
       "      <th>Y2008</th>\n",
       "      <th>Y2009</th>\n",
       "      <th>Y2010</th>\n",
       "      <th>Y2011</th>\n",
       "      <th>Y2012</th>\n",
       "      <th>Y2013</th>\n",
       "    </tr>\n",
       "  </thead>\n",
       "  <tbody>\n",
       "    <tr>\n",
       "      <th>0</th>\n",
       "      <td>AF</td>\n",
       "      <td>2</td>\n",
       "      <td>Afghanistan</td>\n",
       "      <td>2511</td>\n",
       "      <td>Wheat and products</td>\n",
       "      <td>5142</td>\n",
       "      <td>Food</td>\n",
       "      <td>1000 tonnes</td>\n",
       "      <td>33.94</td>\n",
       "      <td>67.71</td>\n",
       "      <td>...</td>\n",
       "      <td>3249.0</td>\n",
       "      <td>3486.0</td>\n",
       "      <td>3704.0</td>\n",
       "      <td>4164.0</td>\n",
       "      <td>4252.0</td>\n",
       "      <td>4538.0</td>\n",
       "      <td>4605.0</td>\n",
       "      <td>4711.0</td>\n",
       "      <td>4810</td>\n",
       "      <td>4895</td>\n",
       "    </tr>\n",
       "    <tr>\n",
       "      <th>1</th>\n",
       "      <td>AF</td>\n",
       "      <td>2</td>\n",
       "      <td>Afghanistan</td>\n",
       "      <td>2805</td>\n",
       "      <td>Rice (Milled Equivalent)</td>\n",
       "      <td>5142</td>\n",
       "      <td>Food</td>\n",
       "      <td>1000 tonnes</td>\n",
       "      <td>33.94</td>\n",
       "      <td>67.71</td>\n",
       "      <td>...</td>\n",
       "      <td>419.0</td>\n",
       "      <td>445.0</td>\n",
       "      <td>546.0</td>\n",
       "      <td>455.0</td>\n",
       "      <td>490.0</td>\n",
       "      <td>415.0</td>\n",
       "      <td>442.0</td>\n",
       "      <td>476.0</td>\n",
       "      <td>425</td>\n",
       "      <td>422</td>\n",
       "    </tr>\n",
       "    <tr>\n",
       "      <th>2</th>\n",
       "      <td>AF</td>\n",
       "      <td>2</td>\n",
       "      <td>Afghanistan</td>\n",
       "      <td>2513</td>\n",
       "      <td>Barley and products</td>\n",
       "      <td>5521</td>\n",
       "      <td>Feed</td>\n",
       "      <td>1000 tonnes</td>\n",
       "      <td>33.94</td>\n",
       "      <td>67.71</td>\n",
       "      <td>...</td>\n",
       "      <td>58.0</td>\n",
       "      <td>236.0</td>\n",
       "      <td>262.0</td>\n",
       "      <td>263.0</td>\n",
       "      <td>230.0</td>\n",
       "      <td>379.0</td>\n",
       "      <td>315.0</td>\n",
       "      <td>203.0</td>\n",
       "      <td>367</td>\n",
       "      <td>360</td>\n",
       "    </tr>\n",
       "    <tr>\n",
       "      <th>3</th>\n",
       "      <td>AF</td>\n",
       "      <td>2</td>\n",
       "      <td>Afghanistan</td>\n",
       "      <td>2513</td>\n",
       "      <td>Barley and products</td>\n",
       "      <td>5142</td>\n",
       "      <td>Food</td>\n",
       "      <td>1000 tonnes</td>\n",
       "      <td>33.94</td>\n",
       "      <td>67.71</td>\n",
       "      <td>...</td>\n",
       "      <td>185.0</td>\n",
       "      <td>43.0</td>\n",
       "      <td>44.0</td>\n",
       "      <td>48.0</td>\n",
       "      <td>62.0</td>\n",
       "      <td>55.0</td>\n",
       "      <td>60.0</td>\n",
       "      <td>72.0</td>\n",
       "      <td>78</td>\n",
       "      <td>89</td>\n",
       "    </tr>\n",
       "    <tr>\n",
       "      <th>4</th>\n",
       "      <td>AF</td>\n",
       "      <td>2</td>\n",
       "      <td>Afghanistan</td>\n",
       "      <td>2514</td>\n",
       "      <td>Maize and products</td>\n",
       "      <td>5521</td>\n",
       "      <td>Feed</td>\n",
       "      <td>1000 tonnes</td>\n",
       "      <td>33.94</td>\n",
       "      <td>67.71</td>\n",
       "      <td>...</td>\n",
       "      <td>120.0</td>\n",
       "      <td>208.0</td>\n",
       "      <td>233.0</td>\n",
       "      <td>249.0</td>\n",
       "      <td>247.0</td>\n",
       "      <td>195.0</td>\n",
       "      <td>178.0</td>\n",
       "      <td>191.0</td>\n",
       "      <td>200</td>\n",
       "      <td>200</td>\n",
       "    </tr>\n",
       "  </tbody>\n",
       "</table>\n",
       "<p>5 rows × 63 columns</p>\n",
       "</div>"
      ],
      "text/plain": [
       "  Area Abbreviation  Area Code         Area  Item Code  \\\n",
       "0                AF          2  Afghanistan       2511   \n",
       "1                AF          2  Afghanistan       2805   \n",
       "2                AF          2  Afghanistan       2513   \n",
       "3                AF          2  Afghanistan       2513   \n",
       "4                AF          2  Afghanistan       2514   \n",
       "\n",
       "                       Item  Element Code Element         Unit  latitude  \\\n",
       "0        Wheat and products          5142    Food  1000 tonnes     33.94   \n",
       "1  Rice (Milled Equivalent)          5142    Food  1000 tonnes     33.94   \n",
       "2       Barley and products          5521    Feed  1000 tonnes     33.94   \n",
       "3       Barley and products          5142    Food  1000 tonnes     33.94   \n",
       "4        Maize and products          5521    Feed  1000 tonnes     33.94   \n",
       "\n",
       "   longitude  ...     Y2004   Y2005   Y2006   Y2007   Y2008   Y2009   Y2010  \\\n",
       "0      67.71  ...    3249.0  3486.0  3704.0  4164.0  4252.0  4538.0  4605.0   \n",
       "1      67.71  ...     419.0   445.0   546.0   455.0   490.0   415.0   442.0   \n",
       "2      67.71  ...      58.0   236.0   262.0   263.0   230.0   379.0   315.0   \n",
       "3      67.71  ...     185.0    43.0    44.0    48.0    62.0    55.0    60.0   \n",
       "4      67.71  ...     120.0   208.0   233.0   249.0   247.0   195.0   178.0   \n",
       "\n",
       "    Y2011  Y2012  Y2013  \n",
       "0  4711.0   4810   4895  \n",
       "1   476.0    425    422  \n",
       "2   203.0    367    360  \n",
       "3    72.0     78     89  \n",
       "4   191.0    200    200  \n",
       "\n",
       "[5 rows x 63 columns]"
      ]
     },
     "execution_count": 25,
     "metadata": {},
     "output_type": "execute_result"
    }
   ],
   "source": [
    "df.head()"
   ]
  },
  {
   "cell_type": "code",
   "execution_count": 26,
   "metadata": {},
   "outputs": [],
   "source": [
    "df_freq = df[\"Item\"].value_counts()"
   ]
  },
  {
   "cell_type": "code",
   "execution_count": 27,
   "metadata": {},
   "outputs": [
    {
     "name": "stdout",
     "output_type": "stream",
     "text": [
      "Milk - Excluding Butter         558\n",
      "Eggs                            360\n",
      "Cereals - Excluding Beer        347\n",
      "Fish, Seafood                   337\n",
      "Maize and products              333\n",
      "Pelagic Fish                    328\n",
      "Oilcrops                        314\n",
      "Starchy Roots                   309\n",
      "Cereals, Other                  308\n",
      "Animal fats                     280\n",
      "Oats                            279\n",
      "Barley and products             276\n",
      "Wheat and products              273\n",
      "Pulses                          261\n",
      "Fish, Body Oil                  259\n",
      "Vegetables, Other               258\n",
      "Vegetables                      258\n",
      "Rice (Milled Equivalent)        255\n",
      "Pulses, Other and products      255\n",
      "Potatoes and products           254\n",
      "Oilcrops, Other                 250\n",
      "Fruits - Excluding Wine         232\n",
      "Cassava and products            225\n",
      "Rye and products                223\n",
      "Soyabeans                       223\n",
      "Marine Fish, Other              219\n",
      "Roots, Other                    213\n",
      "Sugar & Sweeteners              203\n",
      "Demersal Fish                   203\n",
      "Sugar (Raw Equivalent)          197\n",
      "                               ... \n",
      "Lemons, Limes and products      162\n",
      "Infant food                     161\n",
      "Miscellaneous                   161\n",
      "Cream                           159\n",
      "Dates                           159\n",
      "Maize Germ Oil                  158\n",
      "Groundnut Oil                   158\n",
      "Olives (including preserved)    158\n",
      "Citrus, Other                   155\n",
      "Pimento                         154\n",
      "Sugar Crops                     141\n",
      "Coconut Oil                     136\n",
      "Plantains                       135\n",
      "Aquatic Animals, Others         135\n",
      "Cloves                          134\n",
      "Sesameseed Oil                  129\n",
      "Sesame seed                     125\n",
      "Palm Oil                        124\n",
      "Rape and Mustard Oil            121\n",
      "Cottonseed Oil                  110\n",
      "Sunflower seed                  106\n",
      "Palmkernel Oil                   92\n",
      "Yams                             90\n",
      "Sugar cane                       87\n",
      "Sugar beet                       66\n",
      "Sugar non-centrifugal            32\n",
      "Palm kernels                     24\n",
      "Cottonseed                       21\n",
      "Ricebran Oil                     18\n",
      "Meat, Aquatic Mammals             3\n",
      "Name: Item, Length: 115, dtype: int64\n"
     ]
    }
   ],
   "source": [
    "print (df_freq)"
   ]
  },
  {
   "cell_type": "code",
   "execution_count": 28,
   "metadata": {},
   "outputs": [
    {
     "data": {
      "text/html": [
       "<div>\n",
       "<style scoped>\n",
       "    .dataframe tbody tr th:only-of-type {\n",
       "        vertical-align: middle;\n",
       "    }\n",
       "\n",
       "    .dataframe tbody tr th {\n",
       "        vertical-align: top;\n",
       "    }\n",
       "\n",
       "    .dataframe thead th {\n",
       "        text-align: right;\n",
       "    }\n",
       "</style>\n",
       "<table border=\"1\" class=\"dataframe\">\n",
       "  <thead>\n",
       "    <tr style=\"text-align: right;\">\n",
       "      <th></th>\n",
       "      <th>Area Abbreviation</th>\n",
       "      <th>Area Code</th>\n",
       "      <th>Area</th>\n",
       "      <th>Item Code</th>\n",
       "      <th>Item</th>\n",
       "      <th>Element Code</th>\n",
       "      <th>Element</th>\n",
       "      <th>Unit</th>\n",
       "      <th>latitude</th>\n",
       "      <th>longitude</th>\n",
       "      <th>...</th>\n",
       "      <th>Y2004</th>\n",
       "      <th>Y2005</th>\n",
       "      <th>Y2006</th>\n",
       "      <th>Y2007</th>\n",
       "      <th>Y2008</th>\n",
       "      <th>Y2009</th>\n",
       "      <th>Y2010</th>\n",
       "      <th>Y2011</th>\n",
       "      <th>Y2012</th>\n",
       "      <th>Y2013</th>\n",
       "    </tr>\n",
       "  </thead>\n",
       "  <tbody>\n",
       "    <tr>\n",
       "      <th>0</th>\n",
       "      <td>AF</td>\n",
       "      <td>2</td>\n",
       "      <td>Afghanistan</td>\n",
       "      <td>2511</td>\n",
       "      <td>Wheat and products</td>\n",
       "      <td>5142</td>\n",
       "      <td>Food</td>\n",
       "      <td>1000 tonnes</td>\n",
       "      <td>33.94</td>\n",
       "      <td>67.71</td>\n",
       "      <td>...</td>\n",
       "      <td>3249.0</td>\n",
       "      <td>3486.0</td>\n",
       "      <td>3704.0</td>\n",
       "      <td>4164.0</td>\n",
       "      <td>4252.0</td>\n",
       "      <td>4538.0</td>\n",
       "      <td>4605.0</td>\n",
       "      <td>4711.0</td>\n",
       "      <td>4810</td>\n",
       "      <td>4895</td>\n",
       "    </tr>\n",
       "    <tr>\n",
       "      <th>1</th>\n",
       "      <td>AF</td>\n",
       "      <td>2</td>\n",
       "      <td>Afghanistan</td>\n",
       "      <td>2805</td>\n",
       "      <td>Rice (Milled Equivalent)</td>\n",
       "      <td>5142</td>\n",
       "      <td>Food</td>\n",
       "      <td>1000 tonnes</td>\n",
       "      <td>33.94</td>\n",
       "      <td>67.71</td>\n",
       "      <td>...</td>\n",
       "      <td>419.0</td>\n",
       "      <td>445.0</td>\n",
       "      <td>546.0</td>\n",
       "      <td>455.0</td>\n",
       "      <td>490.0</td>\n",
       "      <td>415.0</td>\n",
       "      <td>442.0</td>\n",
       "      <td>476.0</td>\n",
       "      <td>425</td>\n",
       "      <td>422</td>\n",
       "    </tr>\n",
       "    <tr>\n",
       "      <th>2</th>\n",
       "      <td>AF</td>\n",
       "      <td>2</td>\n",
       "      <td>Afghanistan</td>\n",
       "      <td>2513</td>\n",
       "      <td>Barley and products</td>\n",
       "      <td>5521</td>\n",
       "      <td>Feed</td>\n",
       "      <td>1000 tonnes</td>\n",
       "      <td>33.94</td>\n",
       "      <td>67.71</td>\n",
       "      <td>...</td>\n",
       "      <td>58.0</td>\n",
       "      <td>236.0</td>\n",
       "      <td>262.0</td>\n",
       "      <td>263.0</td>\n",
       "      <td>230.0</td>\n",
       "      <td>379.0</td>\n",
       "      <td>315.0</td>\n",
       "      <td>203.0</td>\n",
       "      <td>367</td>\n",
       "      <td>360</td>\n",
       "    </tr>\n",
       "    <tr>\n",
       "      <th>3</th>\n",
       "      <td>AF</td>\n",
       "      <td>2</td>\n",
       "      <td>Afghanistan</td>\n",
       "      <td>2513</td>\n",
       "      <td>Barley and products</td>\n",
       "      <td>5142</td>\n",
       "      <td>Food</td>\n",
       "      <td>1000 tonnes</td>\n",
       "      <td>33.94</td>\n",
       "      <td>67.71</td>\n",
       "      <td>...</td>\n",
       "      <td>185.0</td>\n",
       "      <td>43.0</td>\n",
       "      <td>44.0</td>\n",
       "      <td>48.0</td>\n",
       "      <td>62.0</td>\n",
       "      <td>55.0</td>\n",
       "      <td>60.0</td>\n",
       "      <td>72.0</td>\n",
       "      <td>78</td>\n",
       "      <td>89</td>\n",
       "    </tr>\n",
       "    <tr>\n",
       "      <th>4</th>\n",
       "      <td>AF</td>\n",
       "      <td>2</td>\n",
       "      <td>Afghanistan</td>\n",
       "      <td>2514</td>\n",
       "      <td>Maize and products</td>\n",
       "      <td>5521</td>\n",
       "      <td>Feed</td>\n",
       "      <td>1000 tonnes</td>\n",
       "      <td>33.94</td>\n",
       "      <td>67.71</td>\n",
       "      <td>...</td>\n",
       "      <td>120.0</td>\n",
       "      <td>208.0</td>\n",
       "      <td>233.0</td>\n",
       "      <td>249.0</td>\n",
       "      <td>247.0</td>\n",
       "      <td>195.0</td>\n",
       "      <td>178.0</td>\n",
       "      <td>191.0</td>\n",
       "      <td>200</td>\n",
       "      <td>200</td>\n",
       "    </tr>\n",
       "  </tbody>\n",
       "</table>\n",
       "<p>5 rows × 63 columns</p>\n",
       "</div>"
      ],
      "text/plain": [
       "  Area Abbreviation  Area Code         Area  Item Code  \\\n",
       "0                AF          2  Afghanistan       2511   \n",
       "1                AF          2  Afghanistan       2805   \n",
       "2                AF          2  Afghanistan       2513   \n",
       "3                AF          2  Afghanistan       2513   \n",
       "4                AF          2  Afghanistan       2514   \n",
       "\n",
       "                       Item  Element Code Element         Unit  latitude  \\\n",
       "0        Wheat and products          5142    Food  1000 tonnes     33.94   \n",
       "1  Rice (Milled Equivalent)          5142    Food  1000 tonnes     33.94   \n",
       "2       Barley and products          5521    Feed  1000 tonnes     33.94   \n",
       "3       Barley and products          5142    Food  1000 tonnes     33.94   \n",
       "4        Maize and products          5521    Feed  1000 tonnes     33.94   \n",
       "\n",
       "   longitude  ...     Y2004   Y2005   Y2006   Y2007   Y2008   Y2009   Y2010  \\\n",
       "0      67.71  ...    3249.0  3486.0  3704.0  4164.0  4252.0  4538.0  4605.0   \n",
       "1      67.71  ...     419.0   445.0   546.0   455.0   490.0   415.0   442.0   \n",
       "2      67.71  ...      58.0   236.0   262.0   263.0   230.0   379.0   315.0   \n",
       "3      67.71  ...     185.0    43.0    44.0    48.0    62.0    55.0    60.0   \n",
       "4      67.71  ...     120.0   208.0   233.0   249.0   247.0   195.0   178.0   \n",
       "\n",
       "    Y2011  Y2012  Y2013  \n",
       "0  4711.0   4810   4895  \n",
       "1   476.0    425    422  \n",
       "2   203.0    367    360  \n",
       "3    72.0     78     89  \n",
       "4   191.0    200    200  \n",
       "\n",
       "[5 rows x 63 columns]"
      ]
     },
     "execution_count": 28,
     "metadata": {},
     "output_type": "execute_result"
    }
   ],
   "source": [
    "df.head()"
   ]
  },
  {
   "cell_type": "code",
   "execution_count": 29,
   "metadata": {},
   "outputs": [],
   "source": [
    "import matplotlib.pyplot as plt\n",
    "%matplotlib inline"
   ]
  },
  {
   "cell_type": "code",
   "execution_count": null,
   "metadata": {},
   "outputs": [],
   "source": [
    "plt.hist(x=\"Item Code\",data=df)"
   ]
  },
  {
   "cell_type": "code",
   "execution_count": null,
   "metadata": {},
   "outputs": [],
   "source": [
    "plt.show()"
   ]
  },
  {
   "cell_type": "code",
   "execution_count": null,
   "metadata": {},
   "outputs": [],
   "source": [
    "plt.hist(x='Item Code',data=df, bins=5)\n",
    "plt.show()"
   ]
  },
  {
   "cell_type": "code",
   "execution_count": null,
   "metadata": {},
   "outputs": [],
   "source": [
    "import pandas as pd"
   ]
  },
  {
   "cell_type": "code",
   "execution_count": null,
   "metadata": {},
   "outputs": [],
   "source": [
    "histogram = pd.read_csv(\"C:/Users/arunk01/Desktop/Analytics Vidhya/Python/data_python.csv\", encoding = \"ISO-8859-1\"))"
   ]
  },
  {
   "cell_type": "code",
   "execution_count": null,
   "metadata": {},
   "outputs": [],
   "source": [
    "histogram.head()"
   ]
  },
  {
   "cell_type": "code",
   "execution_count": null,
   "metadata": {},
   "outputs": [],
   "source": []
  }
 ],
 "metadata": {
  "kernelspec": {
   "display_name": "Python 3",
   "language": "python",
   "name": "python3"
  },
  "language_info": {
   "codemirror_mode": {
    "name": "ipython",
    "version": 3
   },
   "file_extension": ".py",
   "mimetype": "text/x-python",
   "name": "python",
   "nbconvert_exporter": "python",
   "pygments_lexer": "ipython3",
   "version": "3.7.0"
  }
 },
 "nbformat": 4,
 "nbformat_minor": 2
}
